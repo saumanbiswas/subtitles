{
 "cells": [
  {
   "cell_type": "code",
   "execution_count": 1,
   "id": "7a5f14fd",
   "metadata": {
    "_cell_guid": "b1076dfc-b9ad-4769-8c92-a6c4dae69d19",
    "_uuid": "8f2839f25d086af736a60e9eeb907d3b93b6e0e5",
    "execution": {
     "iopub.execute_input": "2025-02-11T18:04:45.857589Z",
     "iopub.status.busy": "2025-02-11T18:04:45.857220Z",
     "iopub.status.idle": "2025-02-11T18:04:54.625494Z",
     "shell.execute_reply": "2025-02-11T18:04:54.624702Z"
    },
    "papermill": {
     "duration": 8.774668,
     "end_time": "2025-02-11T18:04:54.627321",
     "exception": false,
     "start_time": "2025-02-11T18:04:45.852653",
     "status": "completed"
    },
    "tags": []
   },
   "outputs": [],
   "source": [
    "import numpy as np\n",
    "import pandas as pd\n",
    "import torch\n",
    "import torch.nn as nn\n",
    "from nltk.corpus import stopwords\n",
    "import string\n",
    "import re\n",
    "import torch.nn.functional as F\n",
    "from collections import Counter\n",
    "import seaborn as sns\n",
    "from tqdm import tqdm\n",
    "import matplotlib.pyplot as plt\n",
    "from torch.utils.data import TensorDataset, DataLoader\n",
    "from sklearn.model_selection import train_test_split\n",
    "import  os\n",
    "from sklearn.preprocessing import LabelEncoder\n"
   ]
  },
  {
   "cell_type": "code",
   "execution_count": 2,
   "id": "1203ffb1",
   "metadata": {
    "execution": {
     "iopub.execute_input": "2025-02-11T18:04:54.634351Z",
     "iopub.status.busy": "2025-02-11T18:04:54.633907Z",
     "iopub.status.idle": "2025-02-11T18:04:56.469546Z",
     "shell.execute_reply": "2025-02-11T18:04:56.468514Z"
    },
    "papermill": {
     "duration": 1.840595,
     "end_time": "2025-02-11T18:04:56.471262",
     "exception": false,
     "start_time": "2025-02-11T18:04:54.630667",
     "status": "completed"
    },
    "tags": []
   },
   "outputs": [
    {
     "name": "stdout",
     "output_type": "stream",
     "text": [
      "Our Device =====>>>>>> cuda\n"
     ]
    },
    {
     "data": {
      "text/html": [
       "<div>\n",
       "<style scoped>\n",
       "    .dataframe tbody tr th:only-of-type {\n",
       "        vertical-align: middle;\n",
       "    }\n",
       "\n",
       "    .dataframe tbody tr th {\n",
       "        vertical-align: top;\n",
       "    }\n",
       "\n",
       "    .dataframe thead th {\n",
       "        text-align: right;\n",
       "    }\n",
       "</style>\n",
       "<table border=\"1\" class=\"dataframe\">\n",
       "  <thead>\n",
       "    <tr style=\"text-align: right;\">\n",
       "      <th></th>\n",
       "      <th>review</th>\n",
       "      <th>sentiment</th>\n",
       "    </tr>\n",
       "  </thead>\n",
       "  <tbody>\n",
       "    <tr>\n",
       "      <th>0</th>\n",
       "      <td>One of the other reviewers has mentioned that ...</td>\n",
       "      <td>positive</td>\n",
       "    </tr>\n",
       "    <tr>\n",
       "      <th>1</th>\n",
       "      <td>A wonderful little production. &lt;br /&gt;&lt;br /&gt;The...</td>\n",
       "      <td>positive</td>\n",
       "    </tr>\n",
       "    <tr>\n",
       "      <th>2</th>\n",
       "      <td>I thought this was a wonderful way to spend ti...</td>\n",
       "      <td>positive</td>\n",
       "    </tr>\n",
       "    <tr>\n",
       "      <th>3</th>\n",
       "      <td>Basically there's a family where a little boy ...</td>\n",
       "      <td>negative</td>\n",
       "    </tr>\n",
       "    <tr>\n",
       "      <th>4</th>\n",
       "      <td>Petter Mattei's \"Love in the Time of Money\" is...</td>\n",
       "      <td>positive</td>\n",
       "    </tr>\n",
       "  </tbody>\n",
       "</table>\n",
       "</div>"
      ],
      "text/plain": [
       "                                              review sentiment\n",
       "0  One of the other reviewers has mentioned that ...  positive\n",
       "1  A wonderful little production. <br /><br />The...  positive\n",
       "2  I thought this was a wonderful way to spend ti...  positive\n",
       "3  Basically there's a family where a little boy ...  negative\n",
       "4  Petter Mattei's \"Love in the Time of Money\" is...  positive"
      ]
     },
     "execution_count": 2,
     "metadata": {},
     "output_type": "execute_result"
    }
   ],
   "source": [
    "is_cuda = torch.cuda.is_available()\n",
    "if is_cuda == True:\n",
    "    device = torch.device(\"cuda\")\n",
    "else:\n",
    "    device = torch.device(\"cpu\")\n",
    "print(\"Our Device =====>>>>>>\", device)\n",
    "df = pd.read_csv( '/kaggle/input/IMDB Dataset.csv')\n",
    "df.head()"
   ]
  },
  {
   "cell_type": "code",
   "execution_count": 3,
   "id": "27030ba5",
   "metadata": {
    "execution": {
     "iopub.execute_input": "2025-02-11T18:04:56.479238Z",
     "iopub.status.busy": "2025-02-11T18:04:56.478882Z",
     "iopub.status.idle": "2025-02-11T18:04:56.773024Z",
     "shell.execute_reply": "2025-02-11T18:04:56.772040Z"
    },
    "papermill": {
     "duration": 0.299587,
     "end_time": "2025-02-11T18:04:56.774632",
     "exception": false,
     "start_time": "2025-02-11T18:04:56.475045",
     "status": "completed"
    },
    "tags": []
   },
   "outputs": [
    {
     "data": {
      "image/png": "[encoded data removed]",
      "text/plain": [
       "<Figure size 300x300 with 1 Axes>"
      ]
     },
     "metadata": {},
     "output_type": "display_data"
    }
   ],
   "source": [
    "X = df['review'].values # Converts it into numpy array\n",
    "y = df['sentiment'].values\n",
    "x_train, x_test, y_train, y_test = train_test_split(X,y,test_size = 0.2, stratify = y) #stratify = y ===>positive and negative ratio of train and test data will be equal\n",
    "\n",
    "totalcount = pd.Series(y_train).value_counts()\n",
    "plt.figure(figsize=(3, 3))\n",
    "sns.barplot(x = np.array(['positive', 'negative']), y= totalcount.values)\n",
    "plt.show()"
   ]
  },
  {
   "cell_type": "code",
   "execution_count": 4,
   "id": "cb68feb2",
   "metadata": {
    "execution": {
     "iopub.execute_input": "2025-02-11T18:04:56.782718Z",
     "iopub.status.busy": "2025-02-11T18:04:56.782421Z",
     "iopub.status.idle": "2025-02-11T18:05:58.512151Z",
     "shell.execute_reply": "2025-02-11T18:05:58.511281Z"
    },
    "papermill": {
     "duration": 61.73573,
     "end_time": "2025-02-11T18:05:58.514020",
     "exception": false,
     "start_time": "2025-02-11T18:04:56.778290",
     "status": "completed"
    },
    "tags": []
   },
   "outputs": [],
   "source": [
    "def preprocess_string(s):\n",
    "    s = re.sub(r\"[^\\w\\s]\", '', s)\n",
    "    s = re.sub(r\"\\s+\", '', s)\n",
    "    s = re.sub(r\"\\d\", '', s)\n",
    "    return s\n",
    "\n",
    "def tockenize(x_train,y_train,x_val,y_val):\n",
    "    word_list = []\n",
    "  \n",
    "    stop_words = set(stopwords.words('english'))\n",
    "    for sentence in x_train:\n",
    "        for word in sentence.lower().split():\n",
    "            word = preprocess_string(word)\n",
    "            if word not in stop_words and word != '':\n",
    "                word_list.append(word)\n",
    "\n",
    "    corpus_counter = Counter(word_list)\n",
    "    corpus = sorted(corpus_counter, key=corpus_counter.get, reverse = True)[:1000]\n",
    "    one_hot_vec_dic = {}\n",
    "    for i, corp in enumerate(corpus):\n",
    "        one_hot_vec_dic[corp] = i + 1\n",
    "    final_x_train = []\n",
    "    final_x_val = []\n",
    "    \n",
    "    for sentence in x_train:\n",
    "        sentence_tokens = [] \n",
    "        for word in sentence.lower().split(): \n",
    "            ppword = preprocess_string(word)\n",
    "            if ppword in one_hot_vec_dic.keys():\n",
    "                sentence_tokens.append(one_hot_vec_dic[ppword])\n",
    "        final_x_train.append(sentence_tokens)\n",
    "  \n",
    "\n",
    "    for sentence in x_val:\n",
    "        sentence_tokens = [] \n",
    "        for word in sentence.lower().split(): \n",
    "            ppword = preprocess_string(word)\n",
    "            if ppword in one_hot_vec_dic.keys():\n",
    "                sentence_tokens.append(one_hot_vec_dic[ppword])\n",
    "        final_x_val.append(sentence_tokens)  \n",
    "       \n",
    "    le = LabelEncoder()\n",
    "    encode_train = le.fit_transform(y_train)\n",
    "    encode_val = le.fit_transform(y_val)\n",
    "    return final_x_train,final_x_val, encode_train, encode_val, one_hot_vec_dic\n",
    "    \n",
    "\n",
    "            \n",
    "        \n",
    "st = ['World is beautiful. beautiful beautiful beautiful USA is the best beautiful . I will go to USA only.']\n",
    "\n",
    "labels = ['positive', 'negative', 'positive', 'negative', 'positive']\n",
    "\n",
    "tockenize(st,labels,st,labels)       \n",
    "\n",
    "X_train, X_test, Y_train, Y_test, vocab = tockenize(x_train, y_train, x_test, y_test)"
   ]
  },
  {
   "cell_type": "code",
   "execution_count": 5,
   "id": "ebbeca7c",
   "metadata": {
    "execution": {
     "iopub.execute_input": "2025-02-11T18:05:58.522863Z",
     "iopub.status.busy": "2025-02-11T18:05:58.522521Z",
     "iopub.status.idle": "2025-02-11T18:05:58.780193Z",
     "shell.execute_reply": "2025-02-11T18:05:58.779191Z"
    },
    "papermill": {
     "duration": 0.263958,
     "end_time": "2025-02-11T18:05:58.781899",
     "exception": false,
     "start_time": "2025-02-11T18:05:58.517941",
     "status": "completed"
    },
    "tags": []
   },
   "outputs": [
    {
     "data": {
      "image/png": "[encoded data removed]",
      "text/plain": [
       "<Figure size 500x400 with 1 Axes>"
      ]
     },
     "metadata": {},
     "output_type": "display_data"
    }
   ],
   "source": [
    "length_x_train = []\n",
    "for i in x_train:\n",
    "    length_x_train.append(len(i))\n",
    "\n",
    "plt.figure(figsize=(5, 4)) \n",
    "pd.Series(length_x_train).hist()\n",
    "plt.show()"
   ]
  },
  {
   "cell_type": "code",
   "execution_count": 6,
   "id": "09cccb38",
   "metadata": {
    "execution": {
     "iopub.execute_input": "2025-02-11T18:05:58.790857Z",
     "iopub.status.busy": "2025-02-11T18:05:58.790588Z",
     "iopub.status.idle": "2025-02-11T18:05:58.794790Z",
     "shell.execute_reply": "2025-02-11T18:05:58.794095Z"
    },
    "papermill": {
     "duration": 0.009865,
     "end_time": "2025-02-11T18:05:58.796088",
     "exception": false,
     "start_time": "2025-02-11T18:05:58.786223",
     "status": "completed"
    },
    "tags": []
   },
   "outputs": [],
   "source": [
    "def padding_(sentences, seq_len):\n",
    "    features = np.zeros((len(sentences), seq_len),dtype=int)\n",
    "    for ii, review in enumerate(sentences):\n",
    "        if len(review) != 0:\n",
    "            features[ii, -len(review):] = np.array(review)[:seq_len]\n",
    "    return features"
   ]
  },
  {
   "cell_type": "code",
   "execution_count": 7,
   "id": "0cda52ed",
   "metadata": {
    "execution": {
     "iopub.execute_input": "2025-02-11T18:05:58.804006Z",
     "iopub.status.busy": "2025-02-11T18:05:58.803743Z",
     "iopub.status.idle": "2025-02-11T18:05:59.285532Z",
     "shell.execute_reply": "2025-02-11T18:05:59.284693Z"
    },
    "papermill": {
     "duration": 0.487604,
     "end_time": "2025-02-11T18:05:59.287275",
     "exception": false,
     "start_time": "2025-02-11T18:05:58.799671",
     "status": "completed"
    },
    "tags": []
   },
   "outputs": [],
   "source": [
    "#we have very less number of reviews with length > 500.\n",
    "#So we will consideronly those below it.\n",
    "x_train_pad = padding_(X_train,500)\n",
    "x_test_pad = padding_(X_test,500)"
   ]
  },
  {
   "cell_type": "code",
   "execution_count": 8,
   "id": "70dff850",
   "metadata": {
    "execution": {
     "iopub.execute_input": "2025-02-11T18:05:59.295654Z",
     "iopub.status.busy": "2025-02-11T18:05:59.295382Z",
     "iopub.status.idle": "2025-02-11T18:05:59.313135Z",
     "shell.execute_reply": "2025-02-11T18:05:59.312077Z"
    },
    "papermill": {
     "duration": 0.023303,
     "end_time": "2025-02-11T18:05:59.314537",
     "exception": false,
     "start_time": "2025-02-11T18:05:59.291234",
     "status": "completed"
    },
    "tags": []
   },
   "outputs": [
    {
     "name": "stdout",
     "output_type": "stream",
     "text": [
      "int64\n",
      "int64\n"
     ]
    }
   ],
   "source": [
    "# create Tensor datasets\n",
    "print(x_train_pad.dtype)\n",
    "print(Y_train.dtype)\n",
    "\n",
    "train_data = TensorDataset(torch.from_numpy(x_train_pad), torch.from_numpy(Y_train))\n",
    "valid_data = TensorDataset(torch.from_numpy(x_test_pad), torch.from_numpy(Y_test))\n",
    "\n",
    "# dataloaders\n",
    "batch_size = 128\n",
    "\n",
    "# make sure to SHUFFLE your data\n",
    "train_loader = DataLoader(train_data, shuffle=True, batch_size=batch_size)\n",
    "valid_loader = DataLoader(valid_data, shuffle=True, batch_size=batch_size)"
   ]
  },
  {
   "cell_type": "code",
   "execution_count": 9,
   "id": "5438d1a3",
   "metadata": {
    "execution": {
     "iopub.execute_input": "2025-02-11T18:05:59.322365Z",
     "iopub.status.busy": "2025-02-11T18:05:59.322091Z",
     "iopub.status.idle": "2025-02-11T18:05:59.329470Z",
     "shell.execute_reply": "2025-02-11T18:05:59.328740Z"
    },
    "papermill": {
     "duration": 0.012766,
     "end_time": "2025-02-11T18:05:59.330800",
     "exception": false,
     "start_time": "2025-02-11T18:05:59.318034",
     "status": "completed"
    },
    "tags": []
   },
   "outputs": [],
   "source": [
    "class SentimentRNN(nn.Module):\n",
    "    def __init__(self, no_layers, vocab_size, output_dim, hidden_dim, embedding_dim,drop_prob=0.5):\n",
    "        super(SentimentRNN, self).__init__()\n",
    "        self.output_dim = output_dim\n",
    "        self.hidden_dim = hidden_dim\n",
    "        self.no_layers = no_layers\n",
    "        self.vocab_size = vocab_size\n",
    "        self.embedding = nn.Embedding(num_embeddings = vocab_size, embedding_dim = embedding_dim )\n",
    "        self.rnn = nn.RNN(input_size = embedding_dim, hidden_size = self.hidden_dim, num_layers = no_layers, batch_first = True)\n",
    "        self.dropout = nn.Dropout(0.3)\n",
    "        self.fc = nn.Linear(hidden_dim, output_dim, bias=True)\n",
    "        self.sig = nn.Sigmoid()\n",
    "       \n",
    "\n",
    "\n",
    "\n",
    "# batch_size = 5\n",
    "# seq_length = 10\n",
    "# hidden_dim = 20\n",
    "# num_layers = 1\n",
    "\n",
    "# rnn_out, hidden = self.rnn(embedding_layer, hidden)\n",
    "# Then:\n",
    "\n",
    "# rnn_out.shape → (5, 10, 20) (all hidden states for all words)\n",
    "# hidden.shape → (1, 5, 20) (final hidden state for each sequence)\n",
    "# rnn_out[:, -1, :] → (5, 20) (last word's output)\n",
    "# hidden.squeeze(0) → (5, 20) (last hidden state)\n",
    "\n",
    "    def forward(self,x,hidden):\n",
    "        batch_size = x.size(0)\n",
    "        embeding_layer = self.embedding(x)\n",
    "        rnn_out, hidden = self.rnn(embeding_layer, hidden)\n",
    "        rnn_out = rnn_out.contiguous().view(-1, self.hidden_dim) \n",
    "        out = self.dropout(rnn_out)\n",
    "        out = self.fc(out)\n",
    "        sig_out = self.sig(out)  \n",
    "        batch_size = x.size(0)\n",
    "        sig_out = sig_out.view(batch_size, -1) \n",
    "        sig_out = sig_out[:, -1] \n",
    "        return sig_out, hidden\n",
    "\n",
    "\n",
    "    def init_hidden(self, batch_size):\n",
    "        #intializing first hidden state\n",
    "        h0 = torch.zeros((self.no_layers,batch_size,self.hidden_dim)).to(device)\n",
    "        c0 = torch.zeros((self.no_layers,batch_size,self.hidden_dim)).to(device)\n",
    "        return (h0,c0)\n",
    "        \n",
    "        "
   ]
  },
  {
   "cell_type": "code",
   "execution_count": 10,
   "id": "5b4da74b",
   "metadata": {
    "execution": {
     "iopub.execute_input": "2025-02-11T18:05:59.338432Z",
     "iopub.status.busy": "2025-02-11T18:05:59.338175Z",
     "iopub.status.idle": "2025-02-11T18:05:59.752691Z",
     "shell.execute_reply": "2025-02-11T18:05:59.751542Z"
    },
    "papermill": {
     "duration": 0.419882,
     "end_time": "2025-02-11T18:05:59.754145",
     "exception": false,
     "start_time": "2025-02-11T18:05:59.334263",
     "status": "completed"
    },
    "tags": []
   },
   "outputs": [
    {
     "name": "stdout",
     "output_type": "stream",
     "text": [
      "SentimentRNN(\n",
      "  (embedding): Embedding(1001, 64)\n",
      "  (rnn): RNN(64, 64, num_layers=2, batch_first=True)\n",
      "  (dropout): Dropout(p=0.3, inplace=False)\n",
      "  (fc): Linear(in_features=64, out_features=256, bias=True)\n",
      "  (sig): Sigmoid()\n",
      ")\n"
     ]
    }
   ],
   "source": [
    "no_layers = 2\n",
    "vocab_size = len(vocab) + 1 \n",
    "embedding_dim = 64\n",
    "output_dim = 1\n",
    "hidden_dim = 256\n",
    "model = SentimentRNN(no_layers,vocab_size,hidden_dim,embedding_dim,embedding_dim,drop_prob=0.5)\n",
    "model.to(device)\n",
    "print(model)\n"
   ]
  }
 ],
 "metadata": {
  "kaggle": {
   "accelerator": "nvidiaTeslaT4",
   "dataSources": [
    {
     "datasetId": 134715,
     "sourceId": 320111,
     "sourceType": "datasetVersion"
    }
   ],
   "dockerImageVersionId": 30887,
   "isGpuEnabled": true,
   "isInternetEnabled": true,
   "language": "python",
   "sourceType": "notebook"
  },
  "kernelspec": {
   "display_name": "Python 3",
   "language": "python",
   "name": "python3"
  },
  "language_info": {
   "codemirror_mode": {
    "name": "ipython",
    "version": 3
   },
   "file_extension": ".py",
   "mimetype": "text/x-python",
   "name": "python",
   "nbconvert_exporter": "python",
   "pygments_lexer": "ipython3",
   "version": "3.10.12"
  },
  "papermill": {
   "default_parameters": {},
   "duration": 80.073307,
   "end_time": "2025-02-11T18:06:02.507888",
   "environment_variables": {},
   "exception": null,
   "input_path": "__notebook__.ipynb",
   "output_path": "__notebook__.ipynb",
   "parameters": {},
   "start_time": "2025-02-11T18:04:42.434581",
   "version": "2.6.0"
  }
 },
 "nbformat": 4,
 "nbformat_minor": 5
}

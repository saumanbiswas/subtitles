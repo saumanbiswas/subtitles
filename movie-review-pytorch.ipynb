{
 "cells": [
  {
   "cell_type": "code",
   "execution_count": 1,
   "id": "d29b48db",
   "metadata": {
    "_cell_guid": "b1076dfc-b9ad-4769-8c92-a6c4dae69d19",
    "_uuid": "8f2839f25d086af736a60e9eeb907d3b93b6e0e5",
    "execution": {
     "iopub.execute_input": "2025-02-11T17:57:14.465492Z",
     "iopub.status.busy": "2025-02-11T17:57:14.465209Z",
     "iopub.status.idle": "2025-02-11T17:57:19.999782Z",
     "shell.execute_reply": "2025-02-11T17:57:19.999088Z"
    },
    "papermill": {
     "duration": 5.540089,
     "end_time": "2025-02-11T17:57:20.001297",
     "exception": false,
     "start_time": "2025-02-11T17:57:14.461208",
     "status": "completed"
    },
    "tags": []
   },
   "outputs": [],
   "source": [
    "import numpy as np\n",
    "import pandas as pd\n",
    "import torch\n",
    "import torch.nn as nn\n",
    "from nltk.corpus import stopwords\n",
    "import string\n",
    "import re\n",
    "import torch.nn.functional as F\n",
    "from collections import Counter\n",
    "import seaborn as sns\n",
    "from tqdm import tqdm\n",
    "import matplotlib.pyplot as plt\n",
    "from torch.utils.data import TensorDataset, DataLoader\n",
    "from sklearn.model_selection import train_test_split\n",
    "import  os\n",
    "from sklearn.preprocessing import LabelEncoder\n"
   ]
  },
  {
   "cell_type": "code",
   "execution_count": 2,
   "id": "132db350",
   "metadata": {
    "execution": {
     "iopub.execute_input": "2025-02-11T17:57:20.007052Z",
     "iopub.status.busy": "2025-02-11T17:57:20.006759Z",
     "iopub.status.idle": "2025-02-11T17:57:21.352399Z",
     "shell.execute_reply": "2025-02-11T17:57:21.351424Z"
    },
    "papermill": {
     "duration": 1.349865,
     "end_time": "2025-02-11T17:57:21.353912",
     "exception": false,
     "start_time": "2025-02-11T17:57:20.004047",
     "status": "completed"
    },
    "tags": []
   },
   "outputs": [
    {
     "name": "stdout",
     "output_type": "stream",
     "text": [
      "Our Device =====>>>>>> cuda\n"
     ]
    },
    {
     "data": {
      "text/html": [
       "<div>\n",
       "<style scoped>\n",
       "    .dataframe tbody tr th:only-of-type {\n",
       "        vertical-align: middle;\n",
       "    }\n",
       "\n",
       "    .dataframe tbody tr th {\n",
       "        vertical-align: top;\n",
       "    }\n",
       "\n",
       "    .dataframe thead th {\n",
       "        text-align: right;\n",
       "    }\n",
       "</style>\n",
       "<table border=\"1\" class=\"dataframe\">\n",
       "  <thead>\n",
       "    <tr style=\"text-align: right;\">\n",
       "      <th></th>\n",
       "      <th>review</th>\n",
       "      <th>sentiment</th>\n",
       "    </tr>\n",
       "  </thead>\n",
       "  <tbody>\n",
       "    <tr>\n",
       "      <th>0</th>\n",
       "      <td>One of the other reviewers has mentioned that ...</td>\n",
       "      <td>positive</td>\n",
       "    </tr>\n",
       "    <tr>\n",
       "      <th>1</th>\n",
       "      <td>A wonderful little production. &lt;br /&gt;&lt;br /&gt;The...</td>\n",
       "      <td>positive</td>\n",
       "    </tr>\n",
       "    <tr>\n",
       "      <th>2</th>\n",
       "      <td>I thought this was a wonderful way to spend ti...</td>\n",
       "      <td>positive</td>\n",
       "    </tr>\n",
       "    <tr>\n",
       "      <th>3</th>\n",
       "      <td>Basically there's a family where a little boy ...</td>\n",
       "      <td>negative</td>\n",
       "    </tr>\n",
       "    <tr>\n",
       "      <th>4</th>\n",
       "      <td>Petter Mattei's \"Love in the Time of Money\" is...</td>\n",
       "      <td>positive</td>\n",
       "    </tr>\n",
       "  </tbody>\n",
       "</table>\n",
       "</div>"
      ],
      "text/plain": [
       "                                              review sentiment\n",
       "0  One of the other reviewers has mentioned that ...  positive\n",
       "1  A wonderful little production. <br /><br />The...  positive\n",
       "2  I thought this was a wonderful way to spend ti...  positive\n",
       "3  Basically there's a family where a little boy ...  negative\n",
       "4  Petter Mattei's \"Love in the Time of Money\" is...  positive"
      ]
     },
     "execution_count": 2,
     "metadata": {},
     "output_type": "execute_result"
    }
   ],
   "source": [
    "is_cuda = torch.cuda.is_available()\n",
    "if is_cuda == True:\n",
    "    device = torch.device(\"cuda\")\n",
    "else:\n",
    "    device = torch.device(\"cpu\")\n",
    "print(\"Our Device =====>>>>>>\", device)\n",
    "df = pd.read_csv( '/kaggle/input/IMDB Dataset.csv')\n",
    "df.head()"
   ]
  },
  {
   "cell_type": "code",
   "execution_count": 3,
   "id": "6fb479cd",
   "metadata": {
    "execution": {
     "iopub.execute_input": "2025-02-11T17:57:21.361106Z",
     "iopub.status.busy": "2025-02-11T17:57:21.360852Z",
     "iopub.status.idle": "2025-02-11T17:57:21.581805Z",
     "shell.execute_reply": "2025-02-11T17:57:21.580994Z"
    },
    "papermill": {
     "duration": 0.225684,
     "end_time": "2025-02-11T17:57:21.583226",
     "exception": false,
     "start_time": "2025-02-11T17:57:21.357542",
     "status": "completed"
    },
    "tags": []
   },
   "outputs": [
    {
     "data": {
      "image/png": "[encoded data removed]",
      "text/plain": [
       "<Figure size 300x300 with 1 Axes>"
      ]
     },
     "metadata": {},
     "output_type": "display_data"
    }
   ],
   "source": [
    "X = df['review'].values # Converts it into numpy array\n",
    "y = df['sentiment'].values\n",
    "x_train, x_test, y_train, y_test = train_test_split(X,y,test_size = 0.2, stratify = y) #stratify = y ===>positive and negative ratio of train and test data will be equal\n",
    "\n",
    "totalcount = pd.Series(y_train).value_counts()\n",
    "plt.figure(figsize=(3, 3))\n",
    "sns.barplot(x = np.array(['positive', 'negative']), y= totalcount.values)\n",
    "plt.show()"
   ]
  },
  {
   "cell_type": "code",
   "execution_count": 4,
   "id": "6e83d4a6",
   "metadata": {
    "execution": {
     "iopub.execute_input": "2025-02-11T17:57:21.589776Z",
     "iopub.status.busy": "2025-02-11T17:57:21.589562Z",
     "iopub.status.idle": "2025-02-11T17:58:15.432791Z",
     "shell.execute_reply": "2025-02-11T17:58:15.432085Z"
    },
    "papermill": {
     "duration": 53.848085,
     "end_time": "2025-02-11T17:58:15.434333",
     "exception": false,
     "start_time": "2025-02-11T17:57:21.586248",
     "status": "completed"
    },
    "tags": []
   },
   "outputs": [],
   "source": [
    "def preprocess_string(s):\n",
    "    s = re.sub(r\"[^\\w\\s]\", '', s)\n",
    "    s = re.sub(r\"\\s+\", '', s)\n",
    "    s = re.sub(r\"\\d\", '', s)\n",
    "    return s\n",
    "\n",
    "def tockenize(x_train,y_train,x_val,y_val):\n",
    "    word_list = []\n",
    "  \n",
    "    stop_words = set(stopwords.words('english'))\n",
    "    for sentence in x_train:\n",
    "        for word in sentence.lower().split():\n",
    "            word = preprocess_string(word)\n",
    "            if word not in stop_words and word != '':\n",
    "                word_list.append(word)\n",
    "\n",
    "    corpus_counter = Counter(word_list)\n",
    "    corpus = sorted(corpus_counter, key=corpus_counter.get, reverse = True)[:1000]\n",
    "    one_hot_vec_dic = {}\n",
    "    for i, corp in enumerate(corpus):\n",
    "        one_hot_vec_dic[corp] = i + 1\n",
    "    final_x_train = []\n",
    "    final_x_val = []\n",
    "    \n",
    "    for sentence in x_train:\n",
    "        sentence_tokens = [] \n",
    "        for word in sentence.lower().split(): \n",
    "            ppword = preprocess_string(word)\n",
    "            if ppword in one_hot_vec_dic.keys():\n",
    "                sentence_tokens.append(one_hot_vec_dic[ppword])\n",
    "        final_x_train.append(sentence_tokens)\n",
    "  \n",
    "\n",
    "    for sentence in x_val:\n",
    "        sentence_tokens = [] \n",
    "        for word in sentence.lower().split(): \n",
    "            ppword = preprocess_string(word)\n",
    "            if ppword in one_hot_vec_dic.keys():\n",
    "                sentence_tokens.append(one_hot_vec_dic[ppword])\n",
    "        final_x_val.append(sentence_tokens)  \n",
    "       \n",
    "    le = LabelEncoder()\n",
    "    encode_train = le.fit_transform(y_train)\n",
    "    encode_val = le.fit_transform(y_val)\n",
    "    return final_x_train,final_x_val, encode_train, encode_val, one_hot_vec_dic\n",
    "    \n",
    "\n",
    "            \n",
    "        \n",
    "st = ['World is beautiful. beautiful beautiful beautiful USA is the best beautiful . I will go to USA only.']\n",
    "\n",
    "labels = ['positive', 'negative', 'positive', 'negative', 'positive']\n",
    "\n",
    "tockenize(st,labels,st,labels)       \n",
    "\n",
    "X_train, X_test, Y_train, Y_test, vocab = tockenize(x_train, y_train, x_test, y_test)"
   ]
  },
  {
   "cell_type": "code",
   "execution_count": 5,
   "id": "b3de3796",
   "metadata": {
    "execution": {
     "iopub.execute_input": "2025-02-11T17:58:15.440969Z",
     "iopub.status.busy": "2025-02-11T17:58:15.440749Z",
     "iopub.status.idle": "2025-02-11T17:58:15.648873Z",
     "shell.execute_reply": "2025-02-11T17:58:15.648079Z"
    },
    "papermill": {
     "duration": 0.213147,
     "end_time": "2025-02-11T17:58:15.650554",
     "exception": false,
     "start_time": "2025-02-11T17:58:15.437407",
     "status": "completed"
    },
    "tags": []
   },
   "outputs": [
    {
     "data": {
      "image/png": "[encoded data removed]",
      "text/plain": [
       "<Figure size 500x400 with 1 Axes>"
      ]
     },
     "metadata": {},
     "output_type": "display_data"
    }
   ],
   "source": [
    "length_x_train = []\n",
    "for i in x_train:\n",
    "    length_x_train.append(len(i))\n",
    "\n",
    "plt.figure(figsize=(5, 4)) \n",
    "pd.Series(length_x_train).hist()\n",
    "plt.show()"
   ]
  },
  {
   "cell_type": "code",
   "execution_count": 6,
   "id": "ab6ea25e",
   "metadata": {
    "execution": {
     "iopub.execute_input": "2025-02-11T17:58:15.657559Z",
     "iopub.status.busy": "2025-02-11T17:58:15.657328Z",
     "iopub.status.idle": "2025-02-11T17:58:15.661908Z",
     "shell.execute_reply": "2025-02-11T17:58:15.661304Z"
    },
    "papermill": {
     "duration": 0.009319,
     "end_time": "2025-02-11T17:58:15.663064",
     "exception": false,
     "start_time": "2025-02-11T17:58:15.653745",
     "status": "completed"
    },
    "tags": []
   },
   "outputs": [],
   "source": [
    "def padding_(sentences, seq_len):\n",
    "    features = np.zeros((len(sentences), seq_len),dtype=int)\n",
    "    for ii, review in enumerate(sentences):\n",
    "        if len(review) != 0:\n",
    "            features[ii, -len(review):] = np.array(review)[:seq_len]\n",
    "    return features"
   ]
  },
  {
   "cell_type": "code",
   "execution_count": 7,
   "id": "cd239c17",
   "metadata": {
    "execution": {
     "iopub.execute_input": "2025-02-11T17:58:15.669575Z",
     "iopub.status.busy": "2025-02-11T17:58:15.669365Z",
     "iopub.status.idle": "2025-02-11T17:58:16.087223Z",
     "shell.execute_reply": "2025-02-11T17:58:16.086465Z"
    },
    "papermill": {
     "duration": 0.422823,
     "end_time": "2025-02-11T17:58:16.088808",
     "exception": false,
     "start_time": "2025-02-11T17:58:15.665985",
     "status": "completed"
    },
    "tags": []
   },
   "outputs": [],
   "source": [
    "#we have very less number of reviews with length > 500.\n",
    "#So we will consideronly those below it.\n",
    "x_train_pad = padding_(X_train,500)\n",
    "x_test_pad = padding_(X_test,500)"
   ]
  },
  {
   "cell_type": "code",
   "execution_count": 8,
   "id": "5622733a",
   "metadata": {
    "execution": {
     "iopub.execute_input": "2025-02-11T17:58:16.096323Z",
     "iopub.status.busy": "2025-02-11T17:58:16.096058Z",
     "iopub.status.idle": "2025-02-11T17:58:16.109584Z",
     "shell.execute_reply": "2025-02-11T17:58:16.108746Z"
    },
    "papermill": {
     "duration": 0.018467,
     "end_time": "2025-02-11T17:58:16.110851",
     "exception": false,
     "start_time": "2025-02-11T17:58:16.092384",
     "status": "completed"
    },
    "tags": []
   },
   "outputs": [
    {
     "name": "stdout",
     "output_type": "stream",
     "text": [
      "int64\n",
      "int64\n"
     ]
    }
   ],
   "source": [
    "# create Tensor datasets\n",
    "print(x_train_pad.dtype)\n",
    "print(Y_train.dtype)\n",
    "\n",
    "train_data = TensorDataset(torch.from_numpy(x_train_pad), torch.from_numpy(Y_train))\n",
    "valid_data = TensorDataset(torch.from_numpy(x_test_pad), torch.from_numpy(Y_test))\n",
    "\n",
    "# dataloaders\n",
    "batch_size = 128\n",
    "\n",
    "# make sure to SHUFFLE your data\n",
    "train_loader = DataLoader(train_data, shuffle=True, batch_size=batch_size)\n",
    "valid_loader = DataLoader(valid_data, shuffle=True, batch_size=batch_size)"
   ]
  },
  {
   "cell_type": "code",
   "execution_count": 9,
   "id": "c6914e41",
   "metadata": {
    "execution": {
     "iopub.execute_input": "2025-02-11T17:58:16.118230Z",
     "iopub.status.busy": "2025-02-11T17:58:16.117955Z",
     "iopub.status.idle": "2025-02-11T17:58:16.124714Z",
     "shell.execute_reply": "2025-02-11T17:58:16.124092Z"
    },
    "papermill": {
     "duration": 0.012143,
     "end_time": "2025-02-11T17:58:16.126006",
     "exception": false,
     "start_time": "2025-02-11T17:58:16.113863",
     "status": "completed"
    },
    "tags": []
   },
   "outputs": [],
   "source": [
    "class SentimentRNN(nn.Module):\n",
    "    def __init__(self, no_layers, vocab_size, output_dim, hidden_dim, embedding_dim,drop_prob=0.5):\n",
    "        super(SentimentRNN, self).__init__()\n",
    "        self.output_dim = output_dim\n",
    "        self.hidden_dim = hidden_dim\n",
    "        self.no_layers = no_layers\n",
    "        self.vocab_size = vocab_size\n",
    "        self.embedding = nn.Embedding(num_embeddings = vocab_size, embedding_dim = embedding_dim )\n",
    "        self.rnn = nn.RNN(input_size = embedding_dim, hidden_size = self.hidden_dim, num_layers = no_layers, batch_first = True)\n",
    "        self.dropout = nn.Dropout(0.3)\n",
    "        self.fc = nn.Linear(hidden_dim, output_dim, bias=True)\n",
    "        self.sig = nn.Sigmoid()\n",
    "       \n",
    "\n",
    "\n",
    "\n",
    "# batch_size = 5\n",
    "# seq_length = 10\n",
    "# hidden_dim = 20\n",
    "# num_layers = 1\n",
    "\n",
    "# rnn_out, hidden = self.rnn(embedding_layer, hidden)\n",
    "# Then:\n",
    "\n",
    "# rnn_out.shape → (5, 10, 20) (all hidden states for all words)\n",
    "# hidden.shape → (1, 5, 20) (final hidden state for each sequence)\n",
    "# rnn_out[:, -1, :] → (5, 20) (last word's output)\n",
    "# hidden.squeeze(0) → (5, 20) (last hidden state)\n",
    "\n",
    "    def forward(self,x,hidden):\n",
    "        batch_size = x.size(0)\n",
    "        embeding_layer = self.embedding(x)\n",
    "        rnn_out, hidden = self.rnn(embeding_layer, hidden)\n",
    "        rnn_out = rnn_out.contiguous().view(-1, self.hidden_dim) \n",
    "        out = self.dropout(rnn_out)\n",
    "        out = self.fc(out)\n",
    "        sig_out = self.sig(out)  \n",
    "        batch_size = x.size(0)\n",
    "        sig_out = sig_out.view(batch_size, -1) \n",
    "        sig_out = sig_out[:, -1] \n",
    "        return sig_out, hidden\n",
    "\n",
    "\n",
    "    def init_hidden(self, batch_size):\n",
    "        #intializing first hidden state\n",
    "        h0 = torch.zeros((self.no_layers,batch_size,self.hidden_dim)).to(device)\n",
    "        c0 = torch.zeros((self.no_layers,batch_size,self.hidden_dim)).to(device)\n",
    "        return (h0,c0)\n",
    "        \n",
    "        "
   ]
  }
 ],
 "metadata": {
  "kaggle": {
   "accelerator": "nvidiaTeslaT4",
   "dataSources": [
    {
     "datasetId": 134715,
     "sourceId": 320111,
     "sourceType": "datasetVersion"
    }
   ],
   "dockerImageVersionId": 30887,
   "isGpuEnabled": true,
   "isInternetEnabled": true,
   "language": "python",
   "sourceType": "notebook"
  },
  "kernelspec": {
   "display_name": "Python 3",
   "language": "python",
   "name": "python3"
  },
  "language_info": {
   "codemirror_mode": {
    "name": "ipython",
    "version": 3
   },
   "file_extension": ".py",
   "mimetype": "text/x-python",
   "name": "python",
   "nbconvert_exporter": "python",
   "pygments_lexer": "ipython3",
   "version": "3.10.12"
  },
  "papermill": {
   "default_parameters": {},
   "duration": 65.627849,
   "end_time": "2025-02-11T17:58:17.549479",
   "environment_variables": {},
   "exception": null,
   "input_path": "__notebook__.ipynb",
   "output_path": "__notebook__.ipynb",
   "parameters": {},
   "start_time": "2025-02-11T17:57:11.921630",
   "version": "2.6.0"
  }
 },
 "nbformat": 4,
 "nbformat_minor": 5
}
